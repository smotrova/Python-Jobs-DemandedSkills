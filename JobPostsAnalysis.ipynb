{
 "cells": [
  {
   "cell_type": "markdown",
   "metadata": {},
   "source": [
    "# Analysis of Job Advertisements"
   ]
  },
  {
   "cell_type": "markdown",
   "metadata": {},
   "source": [
    "> Data collected from [indeed](https://de.indeed.com/) contains searched position, original job title, company, location, full job description and date of scraping. The dataset includes jobs posted in the last quarter 2019 in Germany for data professionals."
   ]
  },
  {
   "cell_type": "code",
   "execution_count": 1,
   "metadata": {},
   "outputs": [],
   "source": [
    "import pandas as pd\n",
    "import string\n",
    "\n",
    "from langdetect import detect\n",
    "\n",
    "from nltk.corpus import stopwords\n",
    "from sklearn.feature_extraction.text import CountVectorizer\n",
    "\n",
    "import matplotlib.pyplot as plt\n",
    "from wordcloud import WordCloud"
   ]
  },
  {
   "cell_type": "code",
   "execution_count": 2,
   "metadata": {},
   "outputs": [
    {
     "data": {
      "application/json": {
       "Software versions": [
        {
         "module": "Python",
         "version": "3.7.5 64bit [MSC v.1916 64 bit (AMD64)]"
        },
        {
         "module": "IPython",
         "version": "7.10.2"
        },
        {
         "module": "OS",
         "version": "Windows 10 10.0.18362 SP0"
        },
        {
         "module": "nltk",
         "version": "3.4.5"
        },
        {
         "module": "sklearn",
         "version": "0.22"
        },
        {
         "module": "pandas",
         "version": "0.25.3"
        },
        {
         "module": "wordcloud",
         "version": "1.6.0"
        },
        {
         "module": "langdetect",
         "version": "1.0.7"
        }
       ]
      },
      "text/html": [
       "<table><tr><th>Software</th><th>Version</th></tr><tr><td>Python</td><td>3.7.5 64bit [MSC v.1916 64 bit (AMD64)]</td></tr><tr><td>IPython</td><td>7.10.2</td></tr><tr><td>OS</td><td>Windows 10 10.0.18362 SP0</td></tr><tr><td>nltk</td><td>3.4.5</td></tr><tr><td>sklearn</td><td>0.22</td></tr><tr><td>pandas</td><td>0.25.3</td></tr><tr><td>wordcloud</td><td>1.6.0</td></tr><tr><td>langdetect</td><td>1.0.7</td></tr><tr><td colspan='2'>Thu Dec 26 10:17:58 2019 W. Europe Standard Time</td></tr></table>"
      ],
      "text/latex": [
       "\\begin{tabular}{|l|l|}\\hline\n",
       "{\\bf Software} & {\\bf Version} \\\\ \\hline\\hline\n",
       "Python & 3.7.5 64bit [MSC v.1916 64 bit (AMD64)] \\\\ \\hline\n",
       "IPython & 7.10.2 \\\\ \\hline\n",
       "OS & Windows 10 10.0.18362 SP0 \\\\ \\hline\n",
       "nltk & 3.4.5 \\\\ \\hline\n",
       "sklearn & 0.22 \\\\ \\hline\n",
       "pandas & 0.25.3 \\\\ \\hline\n",
       "wordcloud & 1.6.0 \\\\ \\hline\n",
       "langdetect & 1.0.7 \\\\ \\hline\n",
       "\\hline \\multicolumn{2}{|l|}{Thu Dec 26 10:17:58 2019 W. Europe Standard Time} \\\\ \\hline\n",
       "\\end{tabular}\n"
      ],
      "text/plain": [
       "Software versions\n",
       "Python 3.7.5 64bit [MSC v.1916 64 bit (AMD64)]\n",
       "IPython 7.10.2\n",
       "OS Windows 10 10.0.18362 SP0\n",
       "nltk 3.4.5\n",
       "sklearn 0.22\n",
       "pandas 0.25.3\n",
       "wordcloud 1.6.0\n",
       "langdetect 1.0.7\n",
       "Thu Dec 26 10:17:58 2019 W. Europe Standard Time"
      ]
     },
     "execution_count": 2,
     "metadata": {},
     "output_type": "execute_result"
    }
   ],
   "source": [
    "%reload_ext version_information\n",
    "%version_information nltk, sklearn, pandas, wordcloud, langdetect"
   ]
  },
  {
   "cell_type": "code",
   "execution_count": 3,
   "metadata": {},
   "outputs": [],
   "source": [
    "# load data\n",
    "df = pd.read_csv('./results/jobs_2019_12_de.csv')"
   ]
  },
  {
   "cell_type": "code",
   "execution_count": 4,
   "metadata": {},
   "outputs": [
    {
     "name": "stdout",
     "output_type": "stream",
     "text": [
      "<class 'pandas.core.frame.DataFrame'>\n",
      "RangeIndex: 1380 entries, 0 to 1379\n",
      "Data columns (total 7 columns):\n",
      "jobkey         1380 non-null object\n",
      "position       1380 non-null object\n",
      "jobtitle       1380 non-null object\n",
      "company        1379 non-null object\n",
      "location       1380 non-null object\n",
      "date           1380 non-null object\n",
      "description    1380 non-null object\n",
      "dtypes: object(7)\n",
      "memory usage: 75.6+ KB\n"
     ]
    }
   ],
   "source": [
    "df.info()"
   ]
  },
  {
   "cell_type": "code",
   "execution_count": 5,
   "metadata": {},
   "outputs": [
    {
     "data": {
      "text/plain": [
       "(1380, 7)"
      ]
     },
     "execution_count": 5,
     "metadata": {},
     "output_type": "execute_result"
    }
   ],
   "source": [
    "df.shape"
   ]
  },
  {
   "cell_type": "code",
   "execution_count": 6,
   "metadata": {
    "scrolled": true
   },
   "outputs": [
    {
     "data": {
      "text/html": [
       "<div>\n",
       "<style scoped>\n",
       "    .dataframe tbody tr th:only-of-type {\n",
       "        vertical-align: middle;\n",
       "    }\n",
       "\n",
       "    .dataframe tbody tr th {\n",
       "        vertical-align: top;\n",
       "    }\n",
       "\n",
       "    .dataframe thead th {\n",
       "        text-align: right;\n",
       "    }\n",
       "</style>\n",
       "<table border=\"1\" class=\"dataframe\">\n",
       "  <thead>\n",
       "    <tr style=\"text-align: right;\">\n",
       "      <th></th>\n",
       "      <th>jobkey</th>\n",
       "      <th>position</th>\n",
       "      <th>jobtitle</th>\n",
       "      <th>company</th>\n",
       "      <th>location</th>\n",
       "      <th>date</th>\n",
       "      <th>description</th>\n",
       "    </tr>\n",
       "  </thead>\n",
       "  <tbody>\n",
       "    <tr>\n",
       "      <th>0</th>\n",
       "      <td>04f7e6866f4ecd3c</td>\n",
       "      <td>data analyst</td>\n",
       "      <td>Data Analyst (m/w/d) Analytics &amp; Insights in K...</td>\n",
       "      <td>UNICEPTA GmbH</td>\n",
       "      <td>Köln</td>\n",
       "      <td>2019-12-23</td>\n",
       "      <td>Deine Aufgaben:\\n Mit Deiner Arbeit bist Du ...</td>\n",
       "    </tr>\n",
       "    <tr>\n",
       "      <th>1</th>\n",
       "      <td>aafab2f520523f70</td>\n",
       "      <td>data analyst</td>\n",
       "      <td>Junior Data Analyst / Business Analyst (m/w/d)</td>\n",
       "      <td>MDM Münzhandelsgesellschaft mbH &amp; Co. KG Deuts...</td>\n",
       "      <td>Braunschweig</td>\n",
       "      <td>2019-12-23</td>\n",
       "      <td>Du hast eine Affinität zu Daten und Anal...</td>\n",
       "    </tr>\n",
       "    <tr>\n",
       "      <th>2</th>\n",
       "      <td>254cdf3d4ff122da</td>\n",
       "      <td>data analyst</td>\n",
       "      <td>(Senior) Data Analyst (f/m/d)</td>\n",
       "      <td>Delivery Hero SE</td>\n",
       "      <td>Berlin</td>\n",
       "      <td>2019-12-23</td>\n",
       "      <td>Want to be a Hero? Join the #1 GLOBAL LEADE...</td>\n",
       "    </tr>\n",
       "    <tr>\n",
       "      <th>3</th>\n",
       "      <td>8662988dc325787b</td>\n",
       "      <td>data analyst</td>\n",
       "      <td>Data Analyst CRM (m/w/d)</td>\n",
       "      <td>Peek&amp;Cloppenburg KG</td>\n",
       "      <td>Hamburg</td>\n",
       "      <td>2019-12-23</td>\n",
       "      <td>Für unsere Zentrale in Hamburg such...</td>\n",
       "    </tr>\n",
       "    <tr>\n",
       "      <th>4</th>\n",
       "      <td>e63c1ce04889bdda</td>\n",
       "      <td>data analyst</td>\n",
       "      <td>Data Scientist* / Data Analyst* im Bereich Sta...</td>\n",
       "      <td>Stadtverwaltung Wolfsburg</td>\n",
       "      <td>Wolfsburg</td>\n",
       "      <td>2019-12-23</td>\n",
       "      <td>Stadt Wolfsburg   \\n  Werden Sie Teil der E...</td>\n",
       "    </tr>\n",
       "  </tbody>\n",
       "</table>\n",
       "</div>"
      ],
      "text/plain": [
       "             jobkey  ...                                        description\n",
       "0  04f7e6866f4ecd3c  ...    Deine Aufgaben:\\n Mit Deiner Arbeit bist Du ...\n",
       "1  aafab2f520523f70  ...        Du hast eine Affinität zu Daten und Anal...\n",
       "2  254cdf3d4ff122da  ...     Want to be a Hero? Join the #1 GLOBAL LEADE...\n",
       "3  8662988dc325787b  ...             Für unsere Zentrale in Hamburg such...\n",
       "4  e63c1ce04889bdda  ...     Stadt Wolfsburg   \\n  Werden Sie Teil der E...\n",
       "\n",
       "[5 rows x 7 columns]"
      ]
     },
     "execution_count": 6,
     "metadata": {},
     "output_type": "execute_result"
    }
   ],
   "source": [
    "df.head()"
   ]
  },
  {
   "cell_type": "code",
   "execution_count": 7,
   "metadata": {},
   "outputs": [],
   "source": [
    "# Detect language for every job post\n",
    "df[\"lang\"] = df['description'].apply(detect)\n",
    "lang = dict({'en':'english', 'de':'german'})\n",
    "df[\"lang\"] = df[\"lang\"].map(lang)"
   ]
  },
  {
   "cell_type": "code",
   "execution_count": 8,
   "metadata": {},
   "outputs": [
    {
     "data": {
      "text/plain": [
       "german     0.730881\n",
       "english    0.269119\n",
       "Name: lang, dtype: float64"
      ]
     },
     "execution_count": 8,
     "metadata": {},
     "output_type": "execute_result"
    }
   ],
   "source": [
    "# language of job posts in Germany (except Berlin)\n",
    "df.loc[df['location']!='Berlin','lang'].value_counts(normalize=True)"
   ]
  },
  {
   "cell_type": "code",
   "execution_count": 9,
   "metadata": {},
   "outputs": [
    {
     "data": {
      "text/plain": [
       "english    0.662824\n",
       "german     0.337176\n",
       "Name: lang, dtype: float64"
      ]
     },
     "execution_count": 9,
     "metadata": {},
     "output_type": "execute_result"
    }
   ],
   "source": [
    "# job post in english/deutsch in Berlin\n",
    "df.loc[df['location']=='Berlin','lang'].value_counts(normalize=True)"
   ]
  },
  {
   "cell_type": "code",
   "execution_count": 10,
   "metadata": {},
   "outputs": [],
   "source": [
    "plt.style.use('ggplot')"
   ]
  },
  {
   "cell_type": "code",
   "execution_count": 11,
   "metadata": {},
   "outputs": [
    {
     "data": {
      "image/png": "[encoded data removed]",
      "text/plain": [
       "<Figure size 432x288 with 1 Axes>"
      ]
     },
     "metadata": {},
     "output_type": "display_data"
    }
   ],
   "source": [
    "w = 1\n",
    "\n",
    "plt.title(\"What langauage is used in job descriptions?\")\n",
    "\n",
    "plt.bar([1,1+w], df.loc[df['location']=='Berlin','lang'].value_counts(normalize=True)*100,\n",
    "        width=w, color=['darkgreen', 'navy'], alpha=0.8, label='english')\n",
    "\n",
    "plt.bar([1+3*w,1+4*w], df.loc[df['location']!='Berlin','lang'].value_counts(normalize=True)*100, \n",
    "        width=w, color=['navy', 'darkgreen'], alpha=0.8, label='deutsch')\n",
    "\n",
    "plt.xticks([1+w/2, 1+3.5*w],['Berlin', 'Germany\\nexcept Berlin'])\n",
    "plt.ylabel('% of jobs')\n",
    "\n",
    "plt.legend(loc='upper center')\n",
    "\n",
    "plt.show()"
   ]
  },
  {
   "cell_type": "markdown",
   "metadata": {},
   "source": [
    "> A majority of job advertisements in Berlin are in English, while in the rest of country German is used more frequently for job descriptions."
   ]
  },
  {
   "cell_type": "code",
   "execution_count": 12,
   "metadata": {},
   "outputs": [
    {
     "data": {
      "text/plain": [
       "844"
      ]
     },
     "execution_count": 12,
     "metadata": {},
     "output_type": "execute_result"
    }
   ],
   "source": [
    "# number of companies\n",
    "len(df.company.unique())"
   ]
  },
  {
   "cell_type": "code",
   "execution_count": 13,
   "metadata": {},
   "outputs": [],
   "source": [
    "# exclude records with loc = 'Deutschland'\n",
    "df = df.loc[df.location!='Deutschland', :]"
   ]
  },
  {
   "cell_type": "code",
   "execution_count": 14,
   "metadata": {},
   "outputs": [
    {
     "data": {
      "text/plain": [
       "174"
      ]
     },
     "execution_count": 14,
     "metadata": {},
     "output_type": "execute_result"
    }
   ],
   "source": [
    "# a number of different cities\n",
    "len(df['location'].unique())"
   ]
  },
  {
   "cell_type": "code",
   "execution_count": 15,
   "metadata": {},
   "outputs": [
    {
     "data": {
      "text/plain": [
       "location\n",
       "Berlin               347\n",
       "München              167\n",
       "Hamburg              124\n",
       "Frankfurt am Main     67\n",
       "Köln                  61\n",
       "                    ... \n",
       "Rostock                1\n",
       "Rheinland-Pfalz        1\n",
       "Jena                   1\n",
       "Rheine                 1\n",
       "Zirndorf               1\n",
       "Name: jobtitle, Length: 174, dtype: int64"
      ]
     },
     "execution_count": 15,
     "metadata": {},
     "output_type": "execute_result"
    }
   ],
   "source": [
    "# a number of job positions in each city\n",
    "positions_per_city = df.groupby(['location'])['jobtitle'].apply(len)\n",
    "positions_per_city.sort_values(ascending=False)"
   ]
  },
  {
   "cell_type": "code",
   "execution_count": 16,
   "metadata": {},
   "outputs": [
    {
     "data": {
      "text/plain": [
       "location    company                        \n",
       "Berlin      Zalando                            17\n",
       "            Bayer                              16\n",
       "Düsseldorf  trivago                            11\n",
       "Berlin      Delivery Hero                      11\n",
       "München     iPAXX                               8\n",
       "                                               ..\n",
       "Karlsruhe   edatasystems GmbH                   1\n",
       "            United Internet Media GmbH          1\n",
       "            United Internet AG                  1\n",
       "            Sovendus GmbH                       1\n",
       "Hamburg     Aequitas Software GmbH & Co. KG     1\n",
       "Name: company, Length: 935, dtype: int64"
      ]
     },
     "execution_count": 16,
     "metadata": {},
     "output_type": "execute_result"
    }
   ],
   "source": [
    "# a number of job positions in a city per a company\n",
    "\n",
    "df.groupby(['location'])['company'].value_counts().sort_values(ascending=False)"
   ]
  },
  {
   "cell_type": "code",
   "execution_count": 17,
   "metadata": {},
   "outputs": [
    {
     "data": {
      "text/plain": [
       "29                        Data Analyst - Client Reporting\n",
       "165          Senior Data Analyst Markets - Zalando Lounge\n",
       "171                                  Pricing Data Analyst\n",
       "177      Data Analyst Finance Technology - Zalando Lounge\n",
       "257                                   Senior Data Analyst\n",
       "268     Data Analyst Category Controlling - Zalando Lo...\n",
       "276                  Senior Data Analyst - Media Business\n",
       "326     Senior Data Analyst Marketing Intelligence - Z...\n",
       "531     Data Scientist - Machine Learning - Economics ...\n",
       "806           (Senior) Data Scientist - Predictive Buying\n",
       "1047    Data Engineer - Process Mining Consultant (m/f/d)\n",
       "1054                                  Data Engineer - ZMS\n",
       "1064                  Data Engineer - Content Attribution\n",
       "1079                  Data Engineer - Markets Engineering\n",
       "1144                 Senior Data Engineer - (Spark/Scala)\n",
       "1195    (Senior) BI / Data Engineer - Category Management\n",
       "1206    Data Engineer (Python/Java) - Retail Operation...\n",
       "Name: jobtitle, dtype: object"
      ]
     },
     "execution_count": 17,
     "metadata": {},
     "output_type": "execute_result"
    }
   ],
   "source": [
    "# positions in Zalando, Berlin\n",
    "df.loc[(df.location=='Berlin')&(df.company=='Zalando'),'jobtitle']"
   ]
  },
  {
   "cell_type": "code",
   "execution_count": 18,
   "metadata": {},
   "outputs": [],
   "source": [
    "# A number of different companies in cities that looks for data professionals\n",
    "\n",
    "companies_per_city = df.groupby(['location'])['company'].unique().apply(len).sort_values(ascending=False).head(15)"
   ]
  },
  {
   "cell_type": "code",
   "execution_count": 19,
   "metadata": {},
   "outputs": [
    {
     "data": {
      "text/plain": [
       "location\n",
       "Berlin               211\n",
       "München              108\n",
       "Hamburg               93\n",
       "Frankfurt am Main     50\n",
       "Köln                  46\n",
       "Düsseldorf            32\n",
       "Stuttgart             23\n",
       "Karlsruhe             19\n",
       "Hannover              12\n",
       "Essen                 10\n",
       "Leipzig               10\n",
       "Nürnberg               9\n",
       "Bonn                   9\n",
       "Oldenburg              7\n",
       "Bremen                 7\n",
       "Name: company, dtype: int64"
      ]
     },
     "execution_count": 19,
     "metadata": {},
     "output_type": "execute_result"
    }
   ],
   "source": [
    "companies_per_city"
   ]
  },
  {
   "cell_type": "code",
   "execution_count": 20,
   "metadata": {},
   "outputs": [
    {
     "data": {
      "image/png": "[encoded data removed]",
      "text/plain": [
       "<Figure size 432x288 with 1 Axes>"
      ]
     },
     "metadata": {},
     "output_type": "display_data"
    }
   ],
   "source": [
    "plt.bar(companies_per_city.index, companies_per_city/len(df.company.unique())*100, color='navy', alpha=0.8)\n",
    "plt.title('Location of hiring companies')\n",
    "plt.ylabel('% of companies')\n",
    "plt.xticks(rotation=90)\n",
    "plt.show()"
   ]
  },
  {
   "cell_type": "markdown",
   "metadata": {},
   "source": [
    "> Berlin is a top city to find new opportunities for data professionals."
   ]
  },
  {
   "cell_type": "code",
   "execution_count": 21,
   "metadata": {},
   "outputs": [
    {
     "data": {
      "text/plain": [
       "array(['data analyst', 'data scientist', 'data engineer',\n",
       "       'business intelligence analyst', 'bi analyst'], dtype=object)"
      ]
     },
     "execution_count": 21,
     "metadata": {},
     "output_type": "execute_result"
    }
   ],
   "source": [
    "# searched positions\n",
    "df.position.unique()"
   ]
  },
  {
   "cell_type": "code",
   "execution_count": 22,
   "metadata": {},
   "outputs": [
    {
     "data": {
      "text/plain": [
       "data scientist    491\n",
       "data engineer     385\n",
       "data analyst      329\n",
       "bi analyst         93\n",
       "Name: position, dtype: int64"
      ]
     },
     "execution_count": 22,
     "metadata": {},
     "output_type": "execute_result"
    }
   ],
   "source": [
    "# replacement\n",
    "df['position'].replace('business intelligence analyst', 'bi analyst', inplace=True)\n",
    "df.position.value_counts()"
   ]
  },
  {
   "cell_type": "code",
   "execution_count": 23,
   "metadata": {},
   "outputs": [],
   "source": [
    "# Clean the text of job advertisments\n",
    "\n",
    "df['description_cleaned'] = ''\n",
    "\n",
    "# remove punctuation\n",
    "df.loc[:,'description_cleaned'] = df['description'].str.replace('[{}]'.format(string.punctuation+'“'+'„'+'–'), '')\n",
    "\n",
    "# convert to lower case\n",
    "df.loc[:,'description_cleaned'] = df['description_cleaned'].str.lower()\n",
    "\n",
    "# remove digits\n",
    "df.loc[:,'description_cleaned'] = df['description_cleaned'].str.replace('[0-9]', '')\n",
    "\n",
    "# remove extra white spaces in texts using split and join\n",
    "df.loc[:, 'description_cleaned'] = df['description_cleaned'].apply(lambda s: ' '.join(s.split()))"
   ]
  },
  {
   "cell_type": "code",
   "execution_count": 24,
   "metadata": {},
   "outputs": [
    {
     "data": {
      "text/plain": [
       "count     1298.000000\n",
       "mean      2655.994607\n",
       "std       1025.206905\n",
       "min        222.000000\n",
       "25%       1929.500000\n",
       "50%       2548.000000\n",
       "75%       3254.000000\n",
       "max      12702.000000\n",
       "Name: description_cleaned, dtype: float64"
      ]
     },
     "execution_count": 24,
     "metadata": {},
     "output_type": "execute_result"
    }
   ],
   "source": [
    "# symbols in descriptions\n",
    "df.description_cleaned.apply(len).describe()"
   ]
  },
  {
   "cell_type": "code",
   "execution_count": 25,
   "metadata": {},
   "outputs": [
    {
     "data": {
      "text/plain": [
       "count    1298.000000\n",
       "mean      362.542373\n",
       "std       152.484579\n",
       "min        37.000000\n",
       "25%       255.000000\n",
       "50%       340.500000\n",
       "75%       460.000000\n",
       "max      1628.000000\n",
       "Name: description_cleaned, dtype: float64"
      ]
     },
     "execution_count": 25,
     "metadata": {},
     "output_type": "execute_result"
    }
   ],
   "source": [
    "# words in descriptions\n",
    "df.description_cleaned.str.split().apply(len).describe()"
   ]
  },
  {
   "cell_type": "code",
   "execution_count": 26,
   "metadata": {},
   "outputs": [],
   "source": [
    "# Bag-of-words\n",
    "\n",
    "# Define a corpus\n",
    "corpus = df['description_cleaned']\n",
    "\n",
    "# Remove stopwords\n",
    "stop_words = stopwords.words(df['lang'].unique())\n",
    "stop_words.extend(['tag', 'tagen', 'aufgaben', 'sowie'])"
   ]
  },
  {
   "cell_type": "markdown",
   "metadata": {},
   "source": [
    "Bag-of-words model requires to specify the n-grams range. The n-grams represent the groups of n words, corresponding to the sequence of n consistently occuring words in a document. This sequence of n words is treated as pseudo-term."
   ]
  },
  {
   "cell_type": "code",
   "execution_count": 27,
   "metadata": {},
   "outputs": [],
   "source": [
    "vectorizer = CountVectorizer(\n",
    "                             stop_words=stop_words, \n",
    "                             ngram_range=(1,1), \n",
    "                             analyzer='word', \n",
    "                             binary=True)\n",
    "\n",
    "freq = vectorizer.fit_transform(corpus).toarray()\n",
    "terms = vectorizer.get_feature_names()\n",
    "\n",
    "# Document-term matrix\n",
    "# Number of features is a number of unique words in the corpus\n",
    "\n",
    "dtm_all = pd.DataFrame(freq, columns = terms)"
   ]
  },
  {
   "cell_type": "code",
   "execution_count": 28,
   "metadata": {},
   "outputs": [
    {
     "data": {
      "text/plain": [
       "(1298, 27719)"
      ]
     },
     "execution_count": 28,
     "metadata": {},
     "output_type": "execute_result"
    }
   ],
   "source": [
    "dtm_all.shape"
   ]
  },
  {
   "cell_type": "code",
   "execution_count": 29,
   "metadata": {},
   "outputs": [
    {
     "data": {
      "image/png": "[encoded data removed]",
      "text/plain": [
       "<Figure size 576x360 with 1 Axes>"
      ]
     },
     "metadata": {},
     "output_type": "display_data"
    }
   ],
   "source": [
    "# Words cloud\n",
    "\n",
    "term_total_freq = dtm_all.sum(axis=0).sort_values(ascending=False)\n",
    "\n",
    "wordcloud = WordCloud( \n",
    "                       background_color='white',\n",
    "                       width=1200,\n",
    "                       height=1000,\n",
    "                       random_state=50).generate_from_frequencies(term_total_freq)\n",
    "\n",
    "plt.figure(figsize=(8, 5))\n",
    "plt.imshow(wordcloud)\n",
    "plt.axis('off')\n",
    "\n",
    "plt.savefig('./figs/jobsposts_wordcloud.png')\n",
    "plt.show()"
   ]
  },
  {
   "cell_type": "code",
   "execution_count": 30,
   "metadata": {},
   "outputs": [],
   "source": [
    "# selected features\n",
    "\n",
    "skills = {'python':'Python', 'r':'R', 'sql':'SQL', 'java':'Java', 'excel':'Excel', \n",
    "          'tableau':'Tableau', 'spark':'Spark', 'hadoop':'Hadoop'}"
   ]
  },
  {
   "cell_type": "code",
   "execution_count": 31,
   "metadata": {},
   "outputs": [],
   "source": [
    "vectorizer = CountVectorizer(\n",
    "                             stop_words=stop_words, \n",
    "                             ngram_range = (1,1),\n",
    "                             token_pattern=r'\\w+',\n",
    "                             analyzer='word',\n",
    "                             vocabulary=skills.keys(),\n",
    "                             binary=True)\n",
    "\n",
    "freq = vectorizer.fit_transform(corpus).toarray()\n",
    "terms = vectorizer.get_feature_names()\n",
    "\n",
    "# Document-term matrix for selected features\n",
    "dtm = pd.DataFrame(freq, columns = terms, index = df.index)"
   ]
  },
  {
   "cell_type": "code",
   "execution_count": 32,
   "metadata": {},
   "outputs": [],
   "source": [
    "dtm['position']=df.position"
   ]
  },
  {
   "cell_type": "code",
   "execution_count": 33,
   "metadata": {},
   "outputs": [
    {
     "data": {
      "text/plain": [
       "(1298, 9)"
      ]
     },
     "execution_count": 33,
     "metadata": {},
     "output_type": "execute_result"
    }
   ],
   "source": [
    "dtm.shape"
   ]
  },
  {
   "cell_type": "code",
   "execution_count": 34,
   "metadata": {},
   "outputs": [
    {
     "data": {
      "text/html": [
       "<div>\n",
       "<style scoped>\n",
       "    .dataframe tbody tr th:only-of-type {\n",
       "        vertical-align: middle;\n",
       "    }\n",
       "\n",
       "    .dataframe tbody tr th {\n",
       "        vertical-align: top;\n",
       "    }\n",
       "\n",
       "    .dataframe thead th {\n",
       "        text-align: right;\n",
       "    }\n",
       "</style>\n",
       "<table border=\"1\" class=\"dataframe\">\n",
       "  <thead>\n",
       "    <tr style=\"text-align: right;\">\n",
       "      <th></th>\n",
       "      <th>python</th>\n",
       "      <th>r</th>\n",
       "      <th>sql</th>\n",
       "      <th>java</th>\n",
       "      <th>excel</th>\n",
       "      <th>tableau</th>\n",
       "      <th>spark</th>\n",
       "      <th>hadoop</th>\n",
       "      <th>position</th>\n",
       "    </tr>\n",
       "  </thead>\n",
       "  <tbody>\n",
       "    <tr>\n",
       "      <th>0</th>\n",
       "      <td>0</td>\n",
       "      <td>0</td>\n",
       "      <td>0</td>\n",
       "      <td>0</td>\n",
       "      <td>1</td>\n",
       "      <td>1</td>\n",
       "      <td>0</td>\n",
       "      <td>0</td>\n",
       "      <td>data analyst</td>\n",
       "    </tr>\n",
       "    <tr>\n",
       "      <th>1</th>\n",
       "      <td>0</td>\n",
       "      <td>0</td>\n",
       "      <td>0</td>\n",
       "      <td>0</td>\n",
       "      <td>0</td>\n",
       "      <td>0</td>\n",
       "      <td>0</td>\n",
       "      <td>0</td>\n",
       "      <td>data analyst</td>\n",
       "    </tr>\n",
       "    <tr>\n",
       "      <th>2</th>\n",
       "      <td>0</td>\n",
       "      <td>1</td>\n",
       "      <td>1</td>\n",
       "      <td>0</td>\n",
       "      <td>0</td>\n",
       "      <td>1</td>\n",
       "      <td>0</td>\n",
       "      <td>0</td>\n",
       "      <td>data analyst</td>\n",
       "    </tr>\n",
       "    <tr>\n",
       "      <th>3</th>\n",
       "      <td>0</td>\n",
       "      <td>1</td>\n",
       "      <td>1</td>\n",
       "      <td>0</td>\n",
       "      <td>0</td>\n",
       "      <td>0</td>\n",
       "      <td>0</td>\n",
       "      <td>0</td>\n",
       "      <td>data analyst</td>\n",
       "    </tr>\n",
       "    <tr>\n",
       "      <th>4</th>\n",
       "      <td>1</td>\n",
       "      <td>0</td>\n",
       "      <td>1</td>\n",
       "      <td>0</td>\n",
       "      <td>0</td>\n",
       "      <td>0</td>\n",
       "      <td>0</td>\n",
       "      <td>0</td>\n",
       "      <td>data analyst</td>\n",
       "    </tr>\n",
       "  </tbody>\n",
       "</table>\n",
       "</div>"
      ],
      "text/plain": [
       "   python  r  sql  java  excel  tableau  spark  hadoop      position\n",
       "0       0  0    0     0      1        1      0       0  data analyst\n",
       "1       0  0    0     0      0        0      0       0  data analyst\n",
       "2       0  1    1     0      0        1      0       0  data analyst\n",
       "3       0  1    1     0      0        0      0       0  data analyst\n",
       "4       1  0    1     0      0        0      0       0  data analyst"
      ]
     },
     "execution_count": 34,
     "metadata": {},
     "output_type": "execute_result"
    }
   ],
   "source": [
    "dtm.head()"
   ]
  },
  {
   "cell_type": "code",
   "execution_count": 35,
   "metadata": {},
   "outputs": [
    {
     "data": {
      "text/html": [
       "<div>\n",
       "<style scoped>\n",
       "    .dataframe tbody tr th:only-of-type {\n",
       "        vertical-align: middle;\n",
       "    }\n",
       "\n",
       "    .dataframe tbody tr th {\n",
       "        vertical-align: top;\n",
       "    }\n",
       "\n",
       "    .dataframe thead th {\n",
       "        text-align: right;\n",
       "    }\n",
       "</style>\n",
       "<table border=\"1\" class=\"dataframe\">\n",
       "  <thead>\n",
       "    <tr style=\"text-align: right;\">\n",
       "      <th></th>\n",
       "      <th>python</th>\n",
       "      <th>r</th>\n",
       "      <th>sql</th>\n",
       "      <th>java</th>\n",
       "      <th>excel</th>\n",
       "      <th>tableau</th>\n",
       "      <th>spark</th>\n",
       "      <th>hadoop</th>\n",
       "    </tr>\n",
       "    <tr>\n",
       "      <th>position</th>\n",
       "      <th></th>\n",
       "      <th></th>\n",
       "      <th></th>\n",
       "      <th></th>\n",
       "      <th></th>\n",
       "      <th></th>\n",
       "      <th></th>\n",
       "      <th></th>\n",
       "    </tr>\n",
       "  </thead>\n",
       "  <tbody>\n",
       "    <tr>\n",
       "      <th>Data Scientist</th>\n",
       "      <td>76.985743</td>\n",
       "      <td>56.619145</td>\n",
       "      <td>42.362525</td>\n",
       "      <td>18.533605</td>\n",
       "      <td>3.462322</td>\n",
       "      <td>8.350305</td>\n",
       "      <td>19.755601</td>\n",
       "      <td>17.107943</td>\n",
       "    </tr>\n",
       "    <tr>\n",
       "      <th>Data Engineer</th>\n",
       "      <td>64.155844</td>\n",
       "      <td>11.948052</td>\n",
       "      <td>53.246753</td>\n",
       "      <td>45.714286</td>\n",
       "      <td>2.077922</td>\n",
       "      <td>12.207792</td>\n",
       "      <td>40.779221</td>\n",
       "      <td>32.727273</td>\n",
       "    </tr>\n",
       "    <tr>\n",
       "      <th>Data Analyst</th>\n",
       "      <td>37.386018</td>\n",
       "      <td>31.914894</td>\n",
       "      <td>52.887538</td>\n",
       "      <td>7.294833</td>\n",
       "      <td>21.276596</td>\n",
       "      <td>28.571429</td>\n",
       "      <td>5.167173</td>\n",
       "      <td>5.775076</td>\n",
       "    </tr>\n",
       "    <tr>\n",
       "      <th>BI Analyst</th>\n",
       "      <td>24.731183</td>\n",
       "      <td>15.053763</td>\n",
       "      <td>72.043011</td>\n",
       "      <td>5.376344</td>\n",
       "      <td>16.129032</td>\n",
       "      <td>41.935484</td>\n",
       "      <td>0.000000</td>\n",
       "      <td>0.000000</td>\n",
       "    </tr>\n",
       "  </tbody>\n",
       "</table>\n",
       "</div>"
      ],
      "text/plain": [
       "                   python          r  ...      spark     hadoop\n",
       "position                              ...                      \n",
       "Data Scientist  76.985743  56.619145  ...  19.755601  17.107943\n",
       "Data Engineer   64.155844  11.948052  ...  40.779221  32.727273\n",
       "Data Analyst    37.386018  31.914894  ...   5.167173   5.775076\n",
       "BI Analyst      24.731183  15.053763  ...   0.000000   0.000000\n",
       "\n",
       "[4 rows x 8 columns]"
      ]
     },
     "execution_count": 35,
     "metadata": {},
     "output_type": "execute_result"
    }
   ],
   "source": [
    "# % of jobs where skills are demanded\n",
    "\n",
    "skills_by_position = dtm.groupby(['position']).sum(axis=0)/dtm.groupby(['position']).count()*100\n",
    "skills_by_position = skills_by_position.sort_values(by=list(skills.keys()), ascending=False)\n",
    "\n",
    "skills_by_position.index = skills_by_position.index.map({'data scientist':'Data Scientist', 'data engineer':'Data Engineer', \n",
    "                                                         'data analyst':'Data Analyst', 'bi analyst':'BI Analyst'})\n",
    "skills_by_position"
   ]
  },
  {
   "cell_type": "code",
   "execution_count": 36,
   "metadata": {},
   "outputs": [
    {
     "data": {
      "image/png": "[encoded data removed]",
      "text/plain": [
       "<Figure size 432x288 with 1 Axes>"
      ]
     },
     "metadata": {},
     "output_type": "display_data"
    }
   ],
   "source": [
    "w = 0.15\n",
    "i=0\n",
    "\n",
    "for pos in skills_by_position.index:\n",
    "    \n",
    "    plt.bar([x+i*w for x in range(len(skills))], skills_by_position.loc[pos, skills], width=w, label=pos)\n",
    "    i+=1\n",
    "\n",
    "plt.xticks([x+w for x in range(len(skills))], skills.values())\n",
    "plt.ylabel('% of jobs')\n",
    "plt.title('Demanded Skills by Job Title')\n",
    "plt.legend()\n",
    "plt.grid(True)\n",
    "plt.savefig('./figs/demanded_skills.png');"
   ]
  },
  {
   "cell_type": "markdown",
   "metadata": {},
   "source": [
    "> Python and SQL are the most commonly demanded skills for Data Science, Data Engineer and Data Analyst role types.\n",
    " \n",
    "> SQL, Tableau and Python are most demand skills for for BI Analyst role.\n",
    " \n",
    "> SQL, Python and R are most demand for Data Analyst role."
   ]
  }
 ],
 "metadata": {
  "kernelspec": {
   "display_name": "Python 3 (Spyder)",
   "language": "python3",
   "name": "python3"
  },
  "language_info": {
   "codemirror_mode": {
    "name": "ipython",
    "version": 3
   },
   "file_extension": ".py",
   "mimetype": "text/x-python",
   "name": "python",
   "nbconvert_exporter": "python",
   "pygments_lexer": "ipython3",
   "version": "3.7.5"
  }
 },
 "nbformat": 4,
 "nbformat_minor": 2
}
